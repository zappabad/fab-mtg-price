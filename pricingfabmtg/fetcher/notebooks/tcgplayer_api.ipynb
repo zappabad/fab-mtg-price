{
 "cells": [
  {
   "cell_type": "code",
   "execution_count": 50,
   "metadata": {},
   "outputs": [
    {
     "name": "stdout",
     "output_type": "stream",
     "text": [
      "Lowest Price: 147.0\n",
      "Market Price: 124.18\n",
      "Lowest Price with Shipping: 147.0\n"
     ]
    }
   ],
   "source": [
    "from sys import path\n",
    "path.append(\"..\")\n",
    "\n",
    "from utils import TCGPlayerFetcher\n",
    "\n",
    "\n",
    "# Example usage\n",
    "fetcher = TCGPlayerFetcher(\"Fyendal's Spring Tunic\")\n",
    "fetcher.fetch_data()\n",
    "print(\"Lowest Price:\", fetcher.get_lowest_price())\n",
    "print(\"Market Price:\", fetcher.get_market_price())\n",
    "print(\"Lowest Price with Shipping:\", fetcher.get_lowest_price_with_shipping())"
   ]
  }
 ],
 "metadata": {
  "kernelspec": {
   "display_name": ".venv",
   "language": "python",
   "name": "python3"
  },
  "language_info": {
   "codemirror_mode": {
    "name": "ipython",
    "version": 3
   },
   "file_extension": ".py",
   "mimetype": "text/x-python",
   "name": "python",
   "nbconvert_exporter": "python",
   "pygments_lexer": "ipython3",
   "version": "3.13.1"
  }
 },
 "nbformat": 4,
 "nbformat_minor": 2
}
